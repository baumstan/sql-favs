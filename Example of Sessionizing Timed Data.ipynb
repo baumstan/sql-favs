{
 "cells": [
  {
   "cell_type": "code",
   "execution_count": 118,
   "metadata": {},
   "outputs": [],
   "source": [
    "from google.cloud import bigquery\n",
    "import pandas\n",
    "#!pip install pandas-profiling\n",
    "import pandas_profiling\n",
    "import matplotlib.pyplot as plt\n",
    "from scipy import stats\n",
    "import numpy as np\n",
    "#!pip install google-cloud-bigquery-storage \n",
    "from matplotlib.ticker import FuncFormatter\n",
    "\n",
    "import seaborn as sns\n",
    "import numpy as np\n",
    "from matplotlib.ticker import PercentFormatter\n",
    "\n",
    "\n",
    "# !pip install plotly\n",
    "%matplotlib inline\n",
    "import plotly.express as px\n",
    "import plotly.graph_objects as go"
   ]
  },
  {
   "cell_type": "code",
   "execution_count": 119,
   "metadata": {},
   "outputs": [
    {
     "name": "stdout",
     "output_type": "stream",
     "text": [
      "Client creating using default project: w205-287623\n"
     ]
    }
   ],
   "source": [
    "client = bigquery.Client(location=\"US\")\n",
    "print(\"Client creating using default project: {}\".format(client.project))"
   ]
  },
  {
   "cell_type": "code",
   "execution_count": 120,
   "metadata": {},
   "outputs": [],
   "source": [
    "# for maps\n",
    "from matplotlib.cm import viridis\n",
    "from matplotlib.colors import to_hex\n",
    "\n",
    "import gmaps\n",
    "import gmaps.datasets\n",
    "import gmaps.geojson_geometries\n",
    "\n",
    "from google.cloud import bigquery\n",
    "import pandas\n",
    "\n",
    "gmaps.configure(api_key='') # Fill in with your API key\n"
   ]
  },
  {
   "cell_type": "markdown",
   "metadata": {},
   "source": [
    "# EDA - quick look for outliers only"
   ]
  },
  {
   "cell_type": "code",
   "execution_count": 5,
   "metadata": {},
   "outputs": [
    {
     "data": {
      "text/html": [
       "<div>\n",
       "<style scoped>\n",
       "    .dataframe tbody tr th:only-of-type {\n",
       "        vertical-align: middle;\n",
       "    }\n",
       "\n",
       "    .dataframe tbody tr th {\n",
       "        vertical-align: top;\n",
       "    }\n",
       "\n",
       "    .dataframe thead th {\n",
       "        text-align: right;\n",
       "    }\n",
       "</style>\n",
       "<table border=\"1\" class=\"dataframe\">\n",
       "  <thead>\n",
       "    <tr style=\"text-align: right;\">\n",
       "      <th></th>\n",
       "      <th>minutes</th>\n",
       "      <th>trip_id</th>\n",
       "    </tr>\n",
       "  </thead>\n",
       "  <tbody>\n",
       "    <tr>\n",
       "      <th>count</th>\n",
       "      <td>983648.000000</td>\n",
       "      <td>9.836480e+05</td>\n",
       "    </tr>\n",
       "    <tr>\n",
       "      <th>mean</th>\n",
       "      <td>16.983063</td>\n",
       "      <td>6.721238e+05</td>\n",
       "    </tr>\n",
       "    <tr>\n",
       "      <th>std</th>\n",
       "      <td>307.001181</td>\n",
       "      <td>3.851056e+05</td>\n",
       "    </tr>\n",
       "    <tr>\n",
       "      <th>min</th>\n",
       "      <td>1.000000</td>\n",
       "      <td>4.069000e+03</td>\n",
       "    </tr>\n",
       "    <tr>\n",
       "      <th>25%</th>\n",
       "      <td>6.000000</td>\n",
       "      <td>3.359168e+05</td>\n",
       "    </tr>\n",
       "    <tr>\n",
       "      <th>50%</th>\n",
       "      <td>9.000000</td>\n",
       "      <td>6.779755e+05</td>\n",
       "    </tr>\n",
       "    <tr>\n",
       "      <th>75%</th>\n",
       "      <td>12.000000</td>\n",
       "      <td>1.001672e+06</td>\n",
       "    </tr>\n",
       "    <tr>\n",
       "      <th>max</th>\n",
       "      <td>287899.000000</td>\n",
       "      <td>1.338408e+06</td>\n",
       "    </tr>\n",
       "  </tbody>\n",
       "</table>\n",
       "</div>"
      ],
      "text/plain": [
       "             minutes       trip_id\n",
       "count  983648.000000  9.836480e+05\n",
       "mean       16.983063  6.721238e+05\n",
       "std       307.001181  3.851056e+05\n",
       "min         1.000000  4.069000e+03\n",
       "25%         6.000000  3.359168e+05\n",
       "50%         9.000000  6.779755e+05\n",
       "75%        12.000000  1.001672e+06\n",
       "max    287899.000000  1.338408e+06"
      ]
     },
     "execution_count": 5,
     "metadata": {},
     "output_type": "execute_result"
    }
   ],
   "source": [
    "# distribution of trip length\n",
    "trip_length = \"\"\"  SELECT\n",
    "    TIMESTAMP_DIFF(end_date,start_date, MINUTE) AS minutes,\n",
    "    trip_id\n",
    "   # COUNT(DISTINCT trip_id) AS trips\n",
    "  FROM  `bigquery-public-data.san_francisco.bikeshare_trips`\n",
    " # GROUP BY 1\n",
    ";\n",
    "\"\"\"\n",
    "trip_job = client.query(trip_length) \n",
    "\n",
    "trip_df = trip_job.to_dataframe()\n",
    "trip_df.describe()"
   ]
  },
  {
   "cell_type": "code",
   "execution_count": 6,
   "metadata": {},
   "outputs": [
    {
     "data": {
      "text/plain": [
       "(array([9.83645e+05, 2.00000e+00, 0.00000e+00, 0.00000e+00, 0.00000e+00,\n",
       "        0.00000e+00, 0.00000e+00, 0.00000e+00, 0.00000e+00, 1.00000e+00]),\n",
       " array([1.000000e+00, 2.879080e+04, 5.758060e+04, 8.637040e+04,\n",
       "        1.151602e+05, 1.439500e+05, 1.727398e+05, 2.015296e+05,\n",
       "        2.303194e+05, 2.591092e+05, 2.878990e+05]),\n",
       " <BarContainer object of 10 artists>)"
      ]
     },
     "execution_count": 6,
     "metadata": {},
     "output_type": "execute_result"
    },
    {
     "data": {
      "image/png": "[encoded data removed]",
      "text/plain": [
       "<Figure size 432x288 with 1 Axes>"
      ]
     },
     "metadata": {
      "needs_background": "light"
     },
     "output_type": "display_data"
    }
   ],
   "source": [
    "# visualize distribution -- is it normal?\n",
    "plt.hist(trip_df.minutes)"
   ]
  },
  {
   "cell_type": "code",
   "execution_count": 7,
   "metadata": {},
   "outputs": [
    {
     "name": "stdout",
     "output_type": "stream",
     "text": [
      "minutes        191.00\n",
      "trip_id    1325046.53\n",
      "Name: 0.99, dtype: float64\n"
     ]
    }
   ],
   "source": [
    "# nope not normally distributed at first sight. \n",
    "# still skewed identify 99th %tile of distribution\n",
    "print(trip_df.quantile(.99))"
   ]
  },
  {
   "cell_type": "code",
   "execution_count": 8,
   "metadata": {},
   "outputs": [
    {
     "name": "stdout",
     "output_type": "stream",
     "text": [
      "confirm that approximately 99% of trips are 3 or fewer hours: 0.01077926250040665\n"
     ]
    },
    {
     "data": {
      "text/plain": [
       "(array([885029.,  58959.,   9556.,   5434.,   3694.,   3003.,   2447.,\n",
       "          2007.,   1561.,   1355.]),\n",
       " array([  1. ,  18.8,  36.6,  54.4,  72.2,  90. , 107.8, 125.6, 143.4,\n",
       "        161.2, 179. ]),\n",
       " <BarContainer object of 10 artists>)"
      ]
     },
     "execution_count": 8,
     "metadata": {},
     "output_type": "execute_result"
    },
    {
     "data": {
      "image/png": "[encoded data removed]",
      "text/plain": [
       "<Figure size 432x288 with 1 Axes>"
      ]
     },
     "metadata": {
      "needs_background": "light"
     },
     "output_type": "display_data"
    }
   ],
   "source": [
    "# looks like ~3 hrs or 180 minutes is an outlier\n",
    "trip_df_clean = trip_df[trip_df.minutes < 180]\n",
    "print(\"confirm that approximately 99% of trips are 3 or fewer hours:\",(len(trip_df) - len(trip_df_clean))/len(trip_df))\n",
    "\n",
    "plt.hist(trip_df_clean.minutes)\n",
    "# slightly better histogram but let's see if there are trips that look too short "
   ]
  },
  {
   "cell_type": "code",
   "execution_count": 9,
   "metadata": {},
   "outputs": [
    {
     "name": "stdout",
     "output_type": "stream",
     "text": [
      "pct of trips greater than 2 minutes: 0.013746787468687986\n"
     ]
    },
    {
     "data": {
      "text/html": [
       "<div>\n",
       "<style scoped>\n",
       "    .dataframe tbody tr th:only-of-type {\n",
       "        vertical-align: middle;\n",
       "    }\n",
       "\n",
       "    .dataframe tbody tr th {\n",
       "        vertical-align: top;\n",
       "    }\n",
       "\n",
       "    .dataframe thead th {\n",
       "        text-align: right;\n",
       "    }\n",
       "</style>\n",
       "<table border=\"1\" class=\"dataframe\">\n",
       "  <thead>\n",
       "    <tr style=\"text-align: right;\">\n",
       "      <th></th>\n",
       "      <th>minutes</th>\n",
       "      <th>trip_id</th>\n",
       "    </tr>\n",
       "  </thead>\n",
       "  <tbody>\n",
       "    <tr>\n",
       "      <th>count</th>\n",
       "      <td>970126.000000</td>\n",
       "      <td>9.701260e+05</td>\n",
       "    </tr>\n",
       "    <tr>\n",
       "      <th>mean</th>\n",
       "      <td>11.673265</td>\n",
       "      <td>6.734019e+05</td>\n",
       "    </tr>\n",
       "    <tr>\n",
       "      <th>std</th>\n",
       "      <td>15.023747</td>\n",
       "      <td>3.849540e+05</td>\n",
       "    </tr>\n",
       "    <tr>\n",
       "      <th>min</th>\n",
       "      <td>2.000000</td>\n",
       "      <td>4.069000e+03</td>\n",
       "    </tr>\n",
       "    <tr>\n",
       "      <th>25%</th>\n",
       "      <td>6.000000</td>\n",
       "      <td>3.374342e+05</td>\n",
       "    </tr>\n",
       "    <tr>\n",
       "      <th>50%</th>\n",
       "      <td>9.000000</td>\n",
       "      <td>6.798305e+05</td>\n",
       "    </tr>\n",
       "    <tr>\n",
       "      <th>75%</th>\n",
       "      <td>12.000000</td>\n",
       "      <td>1.003036e+06</td>\n",
       "    </tr>\n",
       "    <tr>\n",
       "      <th>max</th>\n",
       "      <td>179.000000</td>\n",
       "      <td>1.338408e+06</td>\n",
       "    </tr>\n",
       "  </tbody>\n",
       "</table>\n",
       "</div>"
      ],
      "text/plain": [
       "             minutes       trip_id\n",
       "count  970126.000000  9.701260e+05\n",
       "mean       11.673265  6.734019e+05\n",
       "std        15.023747  3.849540e+05\n",
       "min         2.000000  4.069000e+03\n",
       "25%         6.000000  3.374342e+05\n",
       "50%         9.000000  6.798305e+05\n",
       "75%        12.000000  1.003036e+06\n",
       "max       179.000000  1.338408e+06"
      ]
     },
     "execution_count": 9,
     "metadata": {},
     "output_type": "execute_result"
    },
    {
     "data": {
      "image/png": "[encoded data removed]",
      "text/plain": [
       "<Figure size 432x288 with 1 Axes>"
      ]
     },
     "metadata": {
      "needs_background": "light"
     },
     "output_type": "display_data"
    }
   ],
   "source": [
    "trip_df_clean.describe()\n",
    "# still need to remove trips with length of time <= 1 minute\n",
    "\n",
    "trip_df_clean = trip_df_clean[trip_df_clean.minutes >= 2]\n",
    "print(\"pct of trips greater than 2 minutes:\",(len(trip_df) - len(trip_df_clean))/len(trip_df)) #confirm \n",
    "\n",
    "plt.hist(trip_df_clean.minutes)\n",
    "trip_df_clean.describe()\n",
    "# not a normal distribution remove trips greater than 3 hrs and less than 2 minutes "
   ]
  },
  {
   "cell_type": "markdown",
   "metadata": {},
   "source": [
    "# Required Questions"
   ]
  },
  {
   "cell_type": "markdown",
   "metadata": {},
   "source": [
    "## What are the 5 most popular trips that you would call \"commuter trips\"? \n",
    "\n",
    "Caveats and assumptions:\n",
    "* SF commute hours set at 6am to 10am and 4pm to 8pm. Consider only weekdays. \n",
    "* Sunday as the first day of the week.\n",
    "* Do not remove holidays\n",
    "* Not restricting to subscribers\n"
   ]
  },
  {
   "cell_type": "code",
   "execution_count": 10,
   "metadata": {},
   "outputs": [
    {
     "data": {
      "text/html": [
       "<div>\n",
       "<style scoped>\n",
       "    .dataframe tbody tr th:only-of-type {\n",
       "        vertical-align: middle;\n",
       "    }\n",
       "\n",
       "    .dataframe tbody tr th {\n",
       "        vertical-align: top;\n",
       "    }\n",
       "\n",
       "    .dataframe thead th {\n",
       "        text-align: right;\n",
       "    }\n",
       "</style>\n",
       "<table border=\"1\" class=\"dataframe\">\n",
       "  <thead>\n",
       "    <tr style=\"text-align: right;\">\n",
       "      <th></th>\n",
       "      <th>start_station_name</th>\n",
       "      <th>end_station_name</th>\n",
       "      <th>commute_block</th>\n",
       "      <th>trips</th>\n",
       "    </tr>\n",
       "  </thead>\n",
       "  <tbody>\n",
       "    <tr>\n",
       "      <th>0</th>\n",
       "      <td>Harry Bridges Plaza (Ferry Building)</td>\n",
       "      <td>2nd at Townsend</td>\n",
       "      <td>morning</td>\n",
       "      <td>4795</td>\n",
       "    </tr>\n",
       "    <tr>\n",
       "      <th>1</th>\n",
       "      <td>2nd at Townsend</td>\n",
       "      <td>Harry Bridges Plaza (Ferry Building)</td>\n",
       "      <td>evening</td>\n",
       "      <td>4329</td>\n",
       "    </tr>\n",
       "    <tr>\n",
       "      <th>2</th>\n",
       "      <td>Embarcadero at Folsom</td>\n",
       "      <td>San Francisco Caltrain (Townsend at 4th)</td>\n",
       "      <td>evening</td>\n",
       "      <td>4131</td>\n",
       "    </tr>\n",
       "    <tr>\n",
       "      <th>3</th>\n",
       "      <td>Embarcadero at Sansome</td>\n",
       "      <td>Steuart at Market</td>\n",
       "      <td>evening</td>\n",
       "      <td>4105</td>\n",
       "    </tr>\n",
       "    <tr>\n",
       "      <th>4</th>\n",
       "      <td>Steuart at Market</td>\n",
       "      <td>2nd at Townsend</td>\n",
       "      <td>morning</td>\n",
       "      <td>3815</td>\n",
       "    </tr>\n",
       "  </tbody>\n",
       "</table>\n",
       "</div>"
      ],
      "text/plain": [
       "                     start_station_name  \\\n",
       "0  Harry Bridges Plaza (Ferry Building)   \n",
       "1                       2nd at Townsend   \n",
       "2                 Embarcadero at Folsom   \n",
       "3                Embarcadero at Sansome   \n",
       "4                     Steuart at Market   \n",
       "\n",
       "                           end_station_name commute_block  trips  \n",
       "0                           2nd at Townsend       morning   4795  \n",
       "1      Harry Bridges Plaza (Ferry Building)       evening   4329  \n",
       "2  San Francisco Caltrain (Townsend at 4th)       evening   4131  \n",
       "3                         Steuart at Market       evening   4105  \n",
       "4                           2nd at Townsend       morning   3815  "
      ]
     },
     "execution_count": 10,
     "metadata": {},
     "output_type": "execute_result"
    }
   ],
   "source": [
    "top_commuter_trips = \"\"\" WITH \n",
    "   TRIP_COUNTS AS (\n",
    "   --breakout and then combine top morning and evening trips \n",
    "   --useful for future analyses. Could be done in a single query here. \n",
    "  \n",
    "     SELECT \n",
    "       start_station_name, \n",
    "       end_station_name,\n",
    "       'morning' AS commute_block,    \n",
    "       COUNT(DISTINCT IF (EXTRACT(HOUR FROM start_date) BETWEEN 6 and 9, trip_id, NULL)) AS trips\n",
    "     FROM `bigquery-public-data.san_francisco.bikeshare_trips`\n",
    "     WHERE \n",
    "       EXTRACT(DAYOFWEEK FROM DATE(start_date)) NOT IN (1,7) # exclude Sunday and Saturday\n",
    "       AND TIMESTAMP_DIFF(end_date, start_date, MINUTE) BETWEEN 2 AND 180\n",
    "       AND start_station_name <> end_station_name\n",
    "     GROUP BY 1,2,3\n",
    "    \n",
    "     UNION ALL\n",
    "    \n",
    "     SELECT \n",
    "       start_station_name, \n",
    "       end_station_name,\n",
    "       'evening' AS commute_block,  \n",
    "        COUNT(DISTINCT IF (EXTRACT(HOUR FROM start_date) BETWEEN 16 and 19, trip_id, NULL)) AS trips\n",
    "     FROM `bigquery-public-data.san_francisco.bikeshare_trips`\n",
    "     WHERE \n",
    "       EXTRACT(DAYOFWEEK FROM DATE(start_date)) NOT IN (1,7) # exclude Sunday and Saturday\n",
    "       AND TIMESTAMP_DIFF(end_date, start_date, MINUTE) BETWEEN 2 AND 180\n",
    "       AND start_station_name <> end_station_name\n",
    "     GROUP BY 1,2,3\n",
    " )\n",
    "\n",
    " SELECT\n",
    "   *\n",
    " FROM TRIP_COUNTS\n",
    " ORDER BY trips DESC\n",
    " LIMIT 5\n",
    ";\n",
    "\"\"\"\n",
    "\n",
    "top_commuter_trips_job = client.query(top_commuter_trips) \n",
    "\n",
    "top_commuter_trips_df = top_commuter_trips_job.to_dataframe()\n",
    "top_commuter_trips_df"
   ]
  },
  {
   "cell_type": "markdown",
   "metadata": {},
   "source": [
    "## Check if events in bikeshare_status table have discrepancies"
   ]
  },
  {
   "cell_type": "code",
   "execution_count": 11,
   "metadata": {},
   "outputs": [
    {
     "data": {
      "text/html": [
       "<div>\n",
       "<style scoped>\n",
       "    .dataframe tbody tr th:only-of-type {\n",
       "        vertical-align: middle;\n",
       "    }\n",
       "\n",
       "    .dataframe tbody tr th {\n",
       "        vertical-align: top;\n",
       "    }\n",
       "\n",
       "    .dataframe thead th {\n",
       "        text-align: right;\n",
       "    }\n",
       "</style>\n",
       "<table border=\"1\" class=\"dataframe\">\n",
       "  <thead>\n",
       "    <tr style=\"text-align: right;\">\n",
       "      <th></th>\n",
       "      <th>day_of_week</th>\n",
       "      <th>minutes_since_last_change</th>\n",
       "      <th>time</th>\n",
       "      <th>station_id</th>\n",
       "      <th>bikes_available</th>\n",
       "      <th>docks_available</th>\n",
       "      <th>change_bikes_available</th>\n",
       "      <th>change_docks_available</th>\n",
       "      <th>discrepancy</th>\n",
       "    </tr>\n",
       "  </thead>\n",
       "  <tbody>\n",
       "    <tr>\n",
       "      <th>0</th>\n",
       "      <td>Sunday</td>\n",
       "      <td>-16.0</td>\n",
       "      <td>2013-09-15 15:01:02+00:00</td>\n",
       "      <td>72</td>\n",
       "      <td>23</td>\n",
       "      <td>0</td>\n",
       "      <td>-1</td>\n",
       "      <td>1</td>\n",
       "      <td>False</td>\n",
       "    </tr>\n",
       "    <tr>\n",
       "      <th>1</th>\n",
       "      <td>Friday</td>\n",
       "      <td>-27.0</td>\n",
       "      <td>2013-09-20 21:00:01+00:00</td>\n",
       "      <td>72</td>\n",
       "      <td>23</td>\n",
       "      <td>0</td>\n",
       "      <td>-2</td>\n",
       "      <td>2</td>\n",
       "      <td>False</td>\n",
       "    </tr>\n",
       "    <tr>\n",
       "      <th>2</th>\n",
       "      <td>Thursday</td>\n",
       "      <td>-13.0</td>\n",
       "      <td>2013-10-10 18:16:01+00:00</td>\n",
       "      <td>72</td>\n",
       "      <td>23</td>\n",
       "      <td>0</td>\n",
       "      <td>-1</td>\n",
       "      <td>1</td>\n",
       "      <td>False</td>\n",
       "    </tr>\n",
       "    <tr>\n",
       "      <th>3</th>\n",
       "      <td>Thursday</td>\n",
       "      <td>-14.0</td>\n",
       "      <td>2013-10-10 20:54:02+00:00</td>\n",
       "      <td>72</td>\n",
       "      <td>23</td>\n",
       "      <td>0</td>\n",
       "      <td>-1</td>\n",
       "      <td>1</td>\n",
       "      <td>False</td>\n",
       "    </tr>\n",
       "    <tr>\n",
       "      <th>4</th>\n",
       "      <td>Tuesday</td>\n",
       "      <td>0.0</td>\n",
       "      <td>2013-10-15 20:22:01+00:00</td>\n",
       "      <td>72</td>\n",
       "      <td>23</td>\n",
       "      <td>0</td>\n",
       "      <td>-1</td>\n",
       "      <td>1</td>\n",
       "      <td>False</td>\n",
       "    </tr>\n",
       "    <tr>\n",
       "      <th>...</th>\n",
       "      <td>...</td>\n",
       "      <td>...</td>\n",
       "      <td>...</td>\n",
       "      <td>...</td>\n",
       "      <td>...</td>\n",
       "      <td>...</td>\n",
       "      <td>...</td>\n",
       "      <td>...</td>\n",
       "      <td>...</td>\n",
       "    </tr>\n",
       "    <tr>\n",
       "      <th>3008081</th>\n",
       "      <td>Wednesday</td>\n",
       "      <td>0.0</td>\n",
       "      <td>2016-08-31 18:15:59+00:00</td>\n",
       "      <td>69</td>\n",
       "      <td>22</td>\n",
       "      <td>1</td>\n",
       "      <td>-1</td>\n",
       "      <td>1</td>\n",
       "      <td>False</td>\n",
       "    </tr>\n",
       "    <tr>\n",
       "      <th>3008082</th>\n",
       "      <td>Wednesday</td>\n",
       "      <td>-2.0</td>\n",
       "      <td>2016-08-31 18:19:01+00:00</td>\n",
       "      <td>69</td>\n",
       "      <td>22</td>\n",
       "      <td>1</td>\n",
       "      <td>-1</td>\n",
       "      <td>1</td>\n",
       "      <td>False</td>\n",
       "    </tr>\n",
       "    <tr>\n",
       "      <th>3008083</th>\n",
       "      <td>Wednesday</td>\n",
       "      <td>-1.0</td>\n",
       "      <td>2016-08-31 18:22:00+00:00</td>\n",
       "      <td>69</td>\n",
       "      <td>22</td>\n",
       "      <td>1</td>\n",
       "      <td>-1</td>\n",
       "      <td>1</td>\n",
       "      <td>False</td>\n",
       "    </tr>\n",
       "    <tr>\n",
       "      <th>3008084</th>\n",
       "      <td>Wednesday</td>\n",
       "      <td>-11.0</td>\n",
       "      <td>2016-08-31 18:47:52+00:00</td>\n",
       "      <td>69</td>\n",
       "      <td>22</td>\n",
       "      <td>1</td>\n",
       "      <td>-1</td>\n",
       "      <td>0</td>\n",
       "      <td>True</td>\n",
       "    </tr>\n",
       "    <tr>\n",
       "      <th>3008085</th>\n",
       "      <td>Wednesday</td>\n",
       "      <td>-39.0</td>\n",
       "      <td>2016-08-31 22:05:00+00:00</td>\n",
       "      <td>69</td>\n",
       "      <td>22</td>\n",
       "      <td>1</td>\n",
       "      <td>-1</td>\n",
       "      <td>1</td>\n",
       "      <td>False</td>\n",
       "    </tr>\n",
       "  </tbody>\n",
       "</table>\n",
       "<p>3008086 rows × 9 columns</p>\n",
       "</div>"
      ],
      "text/plain": [
       "        day_of_week  minutes_since_last_change                      time  \\\n",
       "0            Sunday                      -16.0 2013-09-15 15:01:02+00:00   \n",
       "1            Friday                      -27.0 2013-09-20 21:00:01+00:00   \n",
       "2          Thursday                      -13.0 2013-10-10 18:16:01+00:00   \n",
       "3          Thursday                      -14.0 2013-10-10 20:54:02+00:00   \n",
       "4           Tuesday                        0.0 2013-10-15 20:22:01+00:00   \n",
       "...             ...                        ...                       ...   \n",
       "3008081   Wednesday                        0.0 2016-08-31 18:15:59+00:00   \n",
       "3008082   Wednesday                       -2.0 2016-08-31 18:19:01+00:00   \n",
       "3008083   Wednesday                       -1.0 2016-08-31 18:22:00+00:00   \n",
       "3008084   Wednesday                      -11.0 2016-08-31 18:47:52+00:00   \n",
       "3008085   Wednesday                      -39.0 2016-08-31 22:05:00+00:00   \n",
       "\n",
       "         station_id  bikes_available  docks_available  change_bikes_available  \\\n",
       "0                72               23                0                      -1   \n",
       "1                72               23                0                      -2   \n",
       "2                72               23                0                      -1   \n",
       "3                72               23                0                      -1   \n",
       "4                72               23                0                      -1   \n",
       "...             ...              ...              ...                     ...   \n",
       "3008081          69               22                1                      -1   \n",
       "3008082          69               22                1                      -1   \n",
       "3008083          69               22                1                      -1   \n",
       "3008084          69               22                1                      -1   \n",
       "3008085          69               22                1                      -1   \n",
       "\n",
       "         change_docks_available  discrepancy  \n",
       "0                             1        False  \n",
       "1                             2        False  \n",
       "2                             1        False  \n",
       "3                             1        False  \n",
       "4                             1        False  \n",
       "...                         ...          ...  \n",
       "3008081                       1        False  \n",
       "3008082                       1        False  \n",
       "3008083                       1        False  \n",
       "3008084                       0         True  \n",
       "3008085                       1        False  \n",
       "\n",
       "[3008086 rows x 9 columns]"
      ]
     },
     "execution_count": 11,
     "metadata": {},
     "output_type": "execute_result"
    }
   ],
   "source": [
    "# return records where there has been a status change\n",
    "bikeshare_status_query = \"\"\" \n",
    "WITH \n",
    "   CHANGE AS (\n",
    "     SELECT \n",
    "       station_id,\n",
    "       bikes_available,\n",
    "       docks_available,\n",
    "       time,\n",
    "       lag(bikes_available) OVER (PARTITION BY station_id ORDER BY time) AS last_bikes_available,\n",
    "       lag(docks_available) OVER (PARTITION BY station_id ORDER BY time) AS last_docks_available\n",
    "     FROM  `bigquery-public-data.san_francisco.bikeshare_status`\n",
    " ),\n",
    "   AGG AS (\n",
    "     SELECT \n",
    "       station_id,\n",
    "       bikes_available,\n",
    "       time, \n",
    "       docks_available,\n",
    "       lag(time) OVER (PARTITION BY station_id ORDER BY time) AS last_time,\n",
    "       last_bikes_available - bikes_available AS change_bikes_available,\n",
    "       last_docks_available - docks_available AS change_docks_available\n",
    "     FROM CHANGE\n",
    "     WHERE (bikes_available <> last_bikes_available \n",
    "       OR docks_available <> last_docks_available)\n",
    "   )\n",
    " SELECT\n",
    "   FORMAT_DATE(\"%A\" , DATE(last_time)) AS day_of_week,\n",
    "   TIMESTAMP_DIFF(last_time, time, MINUTE) AS minutes_since_last_change,\n",
    "   time, \n",
    "   station_id,\n",
    "   bikes_available, \n",
    "   docks_available,\n",
    "   change_bikes_available,\n",
    "   change_docks_available,\n",
    "   change_bikes_available != -change_docks_available AS discrepancy\n",
    " FROM AGG\n",
    ";\n",
    "\"\"\"\n",
    "\n",
    "bikeshare_status_job = client.query(bikeshare_status_query) \n",
    "\n",
    "bikeshare_status_df = bikeshare_status_job.to_dataframe()\n",
    "bikeshare_status_df\n"
   ]
  },
  {
   "cell_type": "code",
   "execution_count": 12,
   "metadata": {},
   "outputs": [
    {
     "data": {
      "text/html": [
       "<div>\n",
       "<style scoped>\n",
       "    .dataframe tbody tr th:only-of-type {\n",
       "        vertical-align: middle;\n",
       "    }\n",
       "\n",
       "    .dataframe tbody tr th {\n",
       "        vertical-align: top;\n",
       "    }\n",
       "\n",
       "    .dataframe thead th {\n",
       "        text-align: right;\n",
       "    }\n",
       "</style>\n",
       "<table border=\"1\" class=\"dataframe\">\n",
       "  <thead>\n",
       "    <tr style=\"text-align: right;\">\n",
       "      <th></th>\n",
       "      <th>day_of_week</th>\n",
       "      <th>minutes_since_last_change</th>\n",
       "      <th>time</th>\n",
       "      <th>station_id</th>\n",
       "      <th>bikes_available</th>\n",
       "      <th>docks_available</th>\n",
       "      <th>change_bikes_available</th>\n",
       "      <th>change_docks_available</th>\n",
       "      <th>discrepancy</th>\n",
       "    </tr>\n",
       "  </thead>\n",
       "  <tbody>\n",
       "    <tr>\n",
       "      <th>441</th>\n",
       "      <td>Saturday</td>\n",
       "      <td>-3.0</td>\n",
       "      <td>2015-05-02 16:10:02+00:00</td>\n",
       "      <td>74</td>\n",
       "      <td>23</td>\n",
       "      <td>0</td>\n",
       "      <td>-2</td>\n",
       "      <td>0</td>\n",
       "      <td>True</td>\n",
       "    </tr>\n",
       "    <tr>\n",
       "      <th>546</th>\n",
       "      <td>Monday</td>\n",
       "      <td>-63.0</td>\n",
       "      <td>2016-05-16 20:18:01+00:00</td>\n",
       "      <td>74</td>\n",
       "      <td>23</td>\n",
       "      <td>0</td>\n",
       "      <td>-1</td>\n",
       "      <td>0</td>\n",
       "      <td>True</td>\n",
       "    </tr>\n",
       "    <tr>\n",
       "      <th>611</th>\n",
       "      <td>Tuesday</td>\n",
       "      <td>-12.0</td>\n",
       "      <td>2013-11-05 12:11:03+00:00</td>\n",
       "      <td>67</td>\n",
       "      <td>25</td>\n",
       "      <td>2</td>\n",
       "      <td>0</td>\n",
       "      <td>-1</td>\n",
       "      <td>True</td>\n",
       "    </tr>\n",
       "    <tr>\n",
       "      <th>803</th>\n",
       "      <td>Thursday</td>\n",
       "      <td>0.0</td>\n",
       "      <td>2014-07-03 15:47:02+00:00</td>\n",
       "      <td>67</td>\n",
       "      <td>23</td>\n",
       "      <td>3</td>\n",
       "      <td>-1</td>\n",
       "      <td>2</td>\n",
       "      <td>True</td>\n",
       "    </tr>\n",
       "    <tr>\n",
       "      <th>804</th>\n",
       "      <td>Thursday</td>\n",
       "      <td>-1.0</td>\n",
       "      <td>2014-07-03 15:48:03+00:00</td>\n",
       "      <td>67</td>\n",
       "      <td>23</td>\n",
       "      <td>2</td>\n",
       "      <td>0</td>\n",
       "      <td>1</td>\n",
       "      <td>True</td>\n",
       "    </tr>\n",
       "    <tr>\n",
       "      <th>...</th>\n",
       "      <td>...</td>\n",
       "      <td>...</td>\n",
       "      <td>...</td>\n",
       "      <td>...</td>\n",
       "      <td>...</td>\n",
       "      <td>...</td>\n",
       "      <td>...</td>\n",
       "      <td>...</td>\n",
       "      <td>...</td>\n",
       "    </tr>\n",
       "    <tr>\n",
       "      <th>3007758</th>\n",
       "      <td>Wednesday</td>\n",
       "      <td>-3.0</td>\n",
       "      <td>2016-06-08 20:35:01+00:00</td>\n",
       "      <td>69</td>\n",
       "      <td>22</td>\n",
       "      <td>1</td>\n",
       "      <td>0</td>\n",
       "      <td>-1</td>\n",
       "      <td>True</td>\n",
       "    </tr>\n",
       "    <tr>\n",
       "      <th>3007759</th>\n",
       "      <td>Thursday</td>\n",
       "      <td>-2.0</td>\n",
       "      <td>2016-06-09 07:20:01+00:00</td>\n",
       "      <td>69</td>\n",
       "      <td>22</td>\n",
       "      <td>0</td>\n",
       "      <td>-2</td>\n",
       "      <td>3</td>\n",
       "      <td>True</td>\n",
       "    </tr>\n",
       "    <tr>\n",
       "      <th>3007878</th>\n",
       "      <td>Tuesday</td>\n",
       "      <td>-1.0</td>\n",
       "      <td>2016-07-12 09:20:01+00:00</td>\n",
       "      <td>69</td>\n",
       "      <td>22</td>\n",
       "      <td>1</td>\n",
       "      <td>-2</td>\n",
       "      <td>1</td>\n",
       "      <td>True</td>\n",
       "    </tr>\n",
       "    <tr>\n",
       "      <th>3008043</th>\n",
       "      <td>Tuesday</td>\n",
       "      <td>-1.0</td>\n",
       "      <td>2016-08-23 08:00:01+00:00</td>\n",
       "      <td>69</td>\n",
       "      <td>22</td>\n",
       "      <td>1</td>\n",
       "      <td>-2</td>\n",
       "      <td>1</td>\n",
       "      <td>True</td>\n",
       "    </tr>\n",
       "    <tr>\n",
       "      <th>3008084</th>\n",
       "      <td>Wednesday</td>\n",
       "      <td>-11.0</td>\n",
       "      <td>2016-08-31 18:47:52+00:00</td>\n",
       "      <td>69</td>\n",
       "      <td>22</td>\n",
       "      <td>1</td>\n",
       "      <td>-1</td>\n",
       "      <td>0</td>\n",
       "      <td>True</td>\n",
       "    </tr>\n",
       "  </tbody>\n",
       "</table>\n",
       "<p>31482 rows × 9 columns</p>\n",
       "</div>"
      ],
      "text/plain": [
       "        day_of_week  minutes_since_last_change                      time  \\\n",
       "441        Saturday                       -3.0 2015-05-02 16:10:02+00:00   \n",
       "546          Monday                      -63.0 2016-05-16 20:18:01+00:00   \n",
       "611         Tuesday                      -12.0 2013-11-05 12:11:03+00:00   \n",
       "803        Thursday                        0.0 2014-07-03 15:47:02+00:00   \n",
       "804        Thursday                       -1.0 2014-07-03 15:48:03+00:00   \n",
       "...             ...                        ...                       ...   \n",
       "3007758   Wednesday                       -3.0 2016-06-08 20:35:01+00:00   \n",
       "3007759    Thursday                       -2.0 2016-06-09 07:20:01+00:00   \n",
       "3007878     Tuesday                       -1.0 2016-07-12 09:20:01+00:00   \n",
       "3008043     Tuesday                       -1.0 2016-08-23 08:00:01+00:00   \n",
       "3008084   Wednesday                      -11.0 2016-08-31 18:47:52+00:00   \n",
       "\n",
       "         station_id  bikes_available  docks_available  change_bikes_available  \\\n",
       "441              74               23                0                      -2   \n",
       "546              74               23                0                      -1   \n",
       "611              67               25                2                       0   \n",
       "803              67               23                3                      -1   \n",
       "804              67               23                2                       0   \n",
       "...             ...              ...              ...                     ...   \n",
       "3007758          69               22                1                       0   \n",
       "3007759          69               22                0                      -2   \n",
       "3007878          69               22                1                      -2   \n",
       "3008043          69               22                1                      -2   \n",
       "3008084          69               22                1                      -1   \n",
       "\n",
       "         change_docks_available  discrepancy  \n",
       "441                           0         True  \n",
       "546                           0         True  \n",
       "611                          -1         True  \n",
       "803                           2         True  \n",
       "804                           1         True  \n",
       "...                         ...          ...  \n",
       "3007758                      -1         True  \n",
       "3007759                       3         True  \n",
       "3007878                       1         True  \n",
       "3008043                       1         True  \n",
       "3008084                       0         True  \n",
       "\n",
       "[31482 rows x 9 columns]"
      ]
     },
     "execution_count": 12,
     "metadata": {},
     "output_type": "execute_result"
    }
   ],
   "source": [
    "# there are discrepancies in the number of bikes and docks for a particular station\n",
    "bikeshare_status_df = bikeshare_status_df.dropna()\n",
    "bikeshare_status_df[bikeshare_status_df.discrepancy == True]\n",
    "\n",
    "# it's unclear from a preview of the discrepancies whether the pattern has to do with actual issues at stations or how event timestamps are recorded"
   ]
  },
  {
   "cell_type": "markdown",
   "metadata": {},
   "source": [
    "# What are your recommendations for offers (justify based on your findings)?"
   ]
  },
  {
   "cell_type": "markdown",
   "metadata": {},
   "source": [
    "## Question 1: How have the number of trips varied month-over-month and year-over-year for the entire program? What trends if any can be observed?\n",
    "* excludes the first year and partial month of data parse out in python if needed"
   ]
  },
  {
   "cell_type": "code",
   "execution_count": 15,
   "metadata": {},
   "outputs": [
    {
     "data": {
      "text/html": [
       "<div>\n",
       "<style scoped>\n",
       "    .dataframe tbody tr th:only-of-type {\n",
       "        vertical-align: middle;\n",
       "    }\n",
       "\n",
       "    .dataframe tbody tr th {\n",
       "        vertical-align: top;\n",
       "    }\n",
       "\n",
       "    .dataframe thead th {\n",
       "        text-align: right;\n",
       "    }\n",
       "</style>\n",
       "<table border=\"1\" class=\"dataframe\">\n",
       "  <thead>\n",
       "    <tr style=\"text-align: right;\">\n",
       "      <th></th>\n",
       "      <th>month</th>\n",
       "      <th>trips</th>\n",
       "      <th>mom_trips</th>\n",
       "      <th>yoy_trips</th>\n",
       "    </tr>\n",
       "  </thead>\n",
       "  <tbody>\n",
       "    <tr>\n",
       "      <th>0</th>\n",
       "      <td>2015-06-01</td>\n",
       "      <td>30747</td>\n",
       "      <td>0.080814</td>\n",
       "      <td>0.077557</td>\n",
       "    </tr>\n",
       "    <tr>\n",
       "      <th>1</th>\n",
       "      <td>2015-01-01</td>\n",
       "      <td>26897</td>\n",
       "      <td>0.430083</td>\n",
       "      <td>0.152844</td>\n",
       "    </tr>\n",
       "    <tr>\n",
       "      <th>2</th>\n",
       "      <td>2015-12-01</td>\n",
       "      <td>17977</td>\n",
       "      <td>-0.208236</td>\n",
       "      <td>-0.044183</td>\n",
       "    </tr>\n",
       "    <tr>\n",
       "      <th>3</th>\n",
       "      <td>2016-08-01</td>\n",
       "      <td>29380</td>\n",
       "      <td>0.185921</td>\n",
       "      <td>-0.043526</td>\n",
       "    </tr>\n",
       "    <tr>\n",
       "      <th>4</th>\n",
       "      <td>2016-03-01</td>\n",
       "      <td>24827</td>\n",
       "      <td>0.044907</td>\n",
       "      <td>-0.183188</td>\n",
       "    </tr>\n",
       "  </tbody>\n",
       "</table>\n",
       "</div>"
      ],
      "text/plain": [
       "        month  trips  mom_trips  yoy_trips\n",
       "0  2015-06-01  30747   0.080814   0.077557\n",
       "1  2015-01-01  26897   0.430083   0.152844\n",
       "2  2015-12-01  17977  -0.208236  -0.044183\n",
       "3  2016-08-01  29380   0.185921  -0.043526\n",
       "4  2016-03-01  24827   0.044907  -0.183188"
      ]
     },
     "execution_count": 15,
     "metadata": {},
     "output_type": "execute_result"
    }
   ],
   "source": [
    "## changes over time\n",
    "query_trips_over_time = \"\"\"\n",
    "\n",
    "WITH \n",
    "MONTH_TRIP AS (\n",
    "  SELECT\n",
    "    DATE_TRUNC(DATE(start_date), MONTH) AS month,\n",
    "    COUNT(DISTINCT trip_id) AS trips\n",
    "  FROM  `bigquery-public-data.san_francisco.bikeshare_trips`\n",
    "  WHERE start_station_name <> end_station_name\n",
    "      AND TIMESTAMP_DIFF(end_date, start_date, MINUTE) BETWEEN 2 AND 180\n",
    "  GROUP BY 1\n",
    "  )\n",
    ", OVER_TIME AS (\n",
    "SELECT \n",
    "  month,\n",
    "  trips,\n",
    "  # checked data\n",
    "  trips/LAG(trips) OVER (ORDER BY month)-1 AS mom_trips, \n",
    "  trips/LAG(trips,12) OVER (ORDER BY month)-1 AS yoy_trips\n",
    "FROM MONTH_TRIP\n",
    ")\n",
    "\n",
    "SELECT * \n",
    "FROM OVER_TIME\n",
    "WHERE month > '2014-08-01'\n",
    ";\n",
    "\"\"\"\n",
    "query_trips_over_time_job = client.query(query_trips_over_time) \n",
    "\n",
    "df_longitudinal = query_trips_over_time_job.to_dataframe()\n",
    "df_longitudinal.head()"
   ]
  },
  {
   "cell_type": "markdown",
   "metadata": {},
   "source": [
    "* Ridership declined in the winter months and has been climbing back up. "
   ]
  },
  {
   "cell_type": "code",
   "execution_count": 39,
   "metadata": {},
   "outputs": [
    {
     "data": {
      "text/plain": [
       "Text(0.5, 1.0, 'Number of Trips Calendar Month')"
      ]
     },
     "execution_count": 39,
     "metadata": {},
     "output_type": "execute_result"
    },
    {
     "data": {
      "image/png": "[encoded data removed]",
      "text/plain": [
       "<Figure size 720x288 with 1 Axes>"
      ]
     },
     "metadata": {
      "needs_background": "light"
     },
     "output_type": "display_data"
    }
   ],
   "source": [
    "plt.bar('month', 'trips', data =df_longitudinal, color = \"blue\", width = 16)\n",
    "fig = plt.gcf()\n",
    "fig.set_size_inches(10, 4)\n",
    "plt.title('Number of Trips Calendar Month')"
   ]
  },
  {
   "cell_type": "code",
   "execution_count": 112,
   "metadata": {},
   "outputs": [
    {
     "data": {
      "image/png": "[encoded data removed]",
      "text/plain": [
       "<Figure size 720x360 with 1 Axes>"
      ]
     },
     "metadata": {
      "needs_background": "light"
     },
     "output_type": "display_data"
    }
   ],
   "source": [
    "lon = df_longitudinal[['month','mom_trips','yoy_trips']]\n",
    "lon = lon.set_index('month')\n",
    "lon.plot()\n",
    "plt.axhline(0, color = 'black')\n",
    "plt.ylim((-1, 1)) \n",
    "fig = plt.gcf()\n",
    "fig.set_size_inches(10, 5)\n",
    "plt.title('Period-over-period change in Number of Rides')\n",
    "plt.gca().yaxis.set_major_formatter(PercentFormatter(1))\n"
   ]
  },
  {
   "cell_type": "markdown",
   "metadata": {},
   "source": [
    "At first it seemed like bad weather in winter months may be the primary cause of the decline, but looking at YoY it seems like there's more to the story. January 2016 was down 20% over January 2015. The volatility of YoY comparisons indicates there may be more happening than a simple seasonal trend. It's also possible that the small numbers are increasing the volatility of these trends. Perhaps exceptional weather, changes in number of workdays during the holidays, cost of travel impacting travelers.. many hypotheses that I would want to dig into if I had more data / time. "
   ]
  },
  {
   "cell_type": "markdown",
   "metadata": {},
   "source": [
    "## Q2: Do certain stations run out of bikes? If so, when, and for how long?"
   ]
  },
  {
   "cell_type": "code",
   "execution_count": 153,
   "metadata": {},
   "outputs": [
    {
     "name": "stdout",
     "output_type": "stream",
     "text": [
      "   sessionized_events  events\n",
      "0                  77   28032\n"
     ]
    }
   ],
   "source": [
    "stations_without_bikes = \"\"\" WITH\n",
    "RECORDS AS (\n",
    "    SELECT \n",
    "      station_id,\n",
    "      bikes_available,\n",
    "      time,\n",
    "      LAG(bikes_available) OVER (PARTITION BY station_id ORDER BY time) AS last_bikes_available,\n",
    "      FIRST_VALUE(time) OVER (PARTITION BY station_id ORDER BY time) AS first_timestamp_for_station,\n",
    "      LAG(time) OVER (PARTITION BY station_id ORDER BY time) AS last_time\n",
    "    FROM  `bigquery-public-data.san_francisco.bikeshare_status`\n",
    "    )\n",
    "    \n",
    ",  CHANGE_RECORDS AS (\n",
    "    SELECT \n",
    "      station_id,\n",
    "      FORMAT_DATE(\"%A\" , DATE(time)) AS day_of_week,\n",
    "      EXTRACT(HOUR FROM time) AS hour_of_day,\n",
    "      time,\n",
    "      last_time,\n",
    "      bikes_available - last_bikes_available AS change_bikes_available,\n",
    "      TIMESTAMP_DIFF(time,last_time,SECOND) AS seconds_until_bike\n",
    "    FROM RECORDS\n",
    "    WHERE 1=1\n",
    "      AND bikes_available != last_bikes_available \n",
    "      AND last_bikes_available = 0\n",
    "      AND last_bikes_available IS NOT NULL\n",
    "      AND time != first_timestamp_for_station\n",
    "      AND last_time IS NOT NULL\n",
    "  )\n",
    "# 3 Million records with changes in bikes in a station\n",
    "# but less than 100 records where a station had no bike for more than 2 minutes\n",
    "SELECT \n",
    "# exclude records where the docks were empty for two minutes or less\n",
    "  SUM(IF(TIMESTAMP_DIFF(time,last_time,SECOND) > 120,1,0)) AS sessionized_events,\n",
    "  COUNT(*) AS events\n",
    "FROM CHANGE_RECORDS\n",
    "\"\"\"\n",
    "stations_without_bikes_df = client.query(stations_without_bikes).to_dataframe()\n",
    "print(stations_without_bikes_df)"
   ]
  },
  {
   "cell_type": "markdown",
   "metadata": {},
   "source": [
    "* if the dock change events are sessionized, there are less than 100 instances of docks without any bikes for more than 2 minutes\n",
    "* there are 28k+ events if we do not sessionize\n",
    "\n",
    "Unless there are multiple riders looking for bikes at a station (could look into this with more time and user data) simultaneously, then the time when there are zero bikes at a station are minimal."
   ]
  },
  {
   "cell_type": "markdown",
   "metadata": {},
   "source": [
    "## Question 3: Where are the stations located across the Bay Area? Weight by rides by station.\n",
    "* Assume it's possible for someone to drop off and return a bike at the same location because we're looking for trends beyond commute times\n",
    "* Use start_date for start_station_id and end_date for end_station_id\n",
    "* Use data for every day of the week, month, and year"
   ]
  },
  {
   "cell_type": "code",
   "execution_count": 115,
   "metadata": {},
   "outputs": [
    {
     "data": {
      "text/html": [
       "<div>\n",
       "<style scoped>\n",
       "    .dataframe tbody tr th:only-of-type {\n",
       "        vertical-align: middle;\n",
       "    }\n",
       "\n",
       "    .dataframe tbody tr th {\n",
       "        vertical-align: top;\n",
       "    }\n",
       "\n",
       "    .dataframe thead th {\n",
       "        text-align: right;\n",
       "    }\n",
       "</style>\n",
       "<table border=\"1\" class=\"dataframe\">\n",
       "  <thead>\n",
       "    <tr style=\"text-align: right;\">\n",
       "      <th></th>\n",
       "      <th>trips</th>\n",
       "      <th>station_id</th>\n",
       "      <th>longitude</th>\n",
       "      <th>latitude</th>\n",
       "      <th>station_name</th>\n",
       "    </tr>\n",
       "  </thead>\n",
       "  <tbody>\n",
       "    <tr>\n",
       "      <th>0</th>\n",
       "      <td>222</td>\n",
       "      <td>83</td>\n",
       "      <td>-122.236234</td>\n",
       "      <td>37.491269</td>\n",
       "      <td>Mezes</td>\n",
       "    </tr>\n",
       "    <tr>\n",
       "      <th>1</th>\n",
       "      <td>5615</td>\n",
       "      <td>9</td>\n",
       "      <td>-121.894715</td>\n",
       "      <td>37.348742</td>\n",
       "      <td>Japantown</td>\n",
       "    </tr>\n",
       "    <tr>\n",
       "      <th>2</th>\n",
       "      <td>594</td>\n",
       "      <td>83</td>\n",
       "      <td>-122.236234</td>\n",
       "      <td>37.491269</td>\n",
       "      <td>Mezes Park</td>\n",
       "    </tr>\n",
       "    <tr>\n",
       "      <th>3</th>\n",
       "      <td>5469</td>\n",
       "      <td>11</td>\n",
       "      <td>-121.885660</td>\n",
       "      <td>37.335885</td>\n",
       "      <td>MLK Library</td>\n",
       "    </tr>\n",
       "    <tr>\n",
       "      <th>4</th>\n",
       "      <td>4800</td>\n",
       "      <td>84</td>\n",
       "      <td>-121.895617</td>\n",
       "      <td>37.342725</td>\n",
       "      <td>Ryland Park</td>\n",
       "    </tr>\n",
       "  </tbody>\n",
       "</table>\n",
       "</div>"
      ],
      "text/plain": [
       "   trips  station_id   longitude   latitude station_name\n",
       "0    222          83 -122.236234  37.491269        Mezes\n",
       "1   5615           9 -121.894715  37.348742    Japantown\n",
       "2    594          83 -122.236234  37.491269   Mezes Park\n",
       "3   5469          11 -121.885660  37.335885  MLK Library\n",
       "4   4800          84 -121.895617  37.342725  Ryland Park"
      ]
     },
     "execution_count": 115,
     "metadata": {},
     "output_type": "execute_result"
    }
   ],
   "source": [
    "stations = \"\"\"\n",
    "WITH \n",
    "  UNIQUE_RIDES AS (\n",
    "    SELECT\n",
    "        start_station_id AS station_id,\n",
    "        longitude, \n",
    "        latitude,\n",
    "        start_station_name AS station_name,\n",
    "        trip_id\n",
    "      FROM  `bigquery-public-data.san_francisco.bikeshare_trips` bt\n",
    "      LEFT JOIN `bigquery-public-data.san_francisco.bikeshare_stations` bs\n",
    "        ON bt.start_station_id = bs.station_id\n",
    "      WHERE  \n",
    "        TIMESTAMP_DIFF(end_date, start_date, MINUTE) BETWEEN 2 AND 180\n",
    "\n",
    "    UNION DISTINCT\n",
    "\n",
    "    SELECT\n",
    "        end_station_id AS station_id,\n",
    "        longitude, \n",
    "        latitude,\n",
    "        end_station_name AS station_name,\n",
    "        trip_id\n",
    "      FROM  `bigquery-public-data.san_francisco.bikeshare_trips` bt\n",
    "      LEFT JOIN `bigquery-public-data.san_francisco.bikeshare_stations` bs\n",
    "        ON bt.end_station_id = bs.station_id\n",
    "      WHERE  \n",
    "        TIMESTAMP_DIFF(end_date, start_date, MINUTE) BETWEEN 2 AND 180\n",
    "        \n",
    "    )\n",
    "SELECT \n",
    "  COUNT(DISTINCT trip_id) AS trips,\n",
    "  station_id,\n",
    "  longitude, \n",
    "  latitude,\n",
    "  station_name\n",
    "FROM UNIQUE_RIDES\n",
    "GROUP BY \n",
    "  station_id,\n",
    "  longitude, \n",
    "  latitude,\n",
    "  station_name\n",
    ";\n",
    "\"\"\"\n",
    "\n",
    "rides_by_station_df = client.query(stations).to_dataframe()\n",
    "rides_by_station_df.head()"
   ]
  },
  {
   "cell_type": "code",
   "execution_count": 122,
   "metadata": {},
   "outputs": [
    {
     "data": {
      "application/vnd.jupyter.widget-view+json": {
       "model_id": "c4ff5a52ac204329ba1a5559881de997",
       "version_major": 2,
       "version_minor": 0
      },
      "text/plain": [
       "Figure(layout=FigureLayout(height='420px'))"
      ]
     },
     "metadata": {},
     "output_type": "display_data"
    }
   ],
   "source": [
    "fig = gmaps.figure()\n",
    "starting_station_heatmap_layer = gmaps.heatmap_layer(\n",
    "    rides_by_station_df[['latitude', 'longitude']], weights=rides_by_station_df['trips'],\n",
    "    max_intensity=30, point_radius=3.0)\n",
    "\n",
    "\n",
    "fig.add_layer(starting_station_heatmap_layer)\n",
    "\n",
    "# prevent dissipation on zoom\n",
    "gmaps.heatmap_layer.max_intensity = 100\n",
    "gmaps.heatmap_layer.point_radius = 5\n",
    "\n",
    "fig"
   ]
  },
  {
   "cell_type": "markdown",
   "metadata": {},
   "source": [
    "** Looks like there a number of stations in the peninsula and south bay. Do not focus efforts on those. "
   ]
  },
  {
   "cell_type": "markdown",
   "metadata": {},
   "source": [
    "## Q4: What is the top route (could have the same start and end point) for Subscribers? Non-Subscribers?\n",
    "https://jupyter-gmaps.readthedocs.io/en/latest/tutorial.html#bicycling-transit-and-traffic-layers"
   ]
  },
  {
   "cell_type": "code",
   "execution_count": 123,
   "metadata": {},
   "outputs": [],
   "source": [
    "sub_top_routes = \"\"\"     SELECT \n",
    "      start_station_name, st.longitude, st.latitude,\n",
    "      ST_GeogPoint(st.longitude, st.latitude) AS starting_geo,\n",
    "      end_station_name,en.longitude AS ending_long, en.latitude AS ending_lat,\n",
    "      ST_GeogPoint(en.longitude, en.latitude) AS ending_geo,\n",
    "      COUNT(DISTINCT trip_id) AS trips\n",
    "    FROM `bigquery-public-data.san_francisco.bikeshare_trips` t\n",
    "    LEFT JOIN  `bigquery-public-data.san_francisco.bikeshare_stations` st\n",
    "      ON t.start_station_id = st.station_id\n",
    "    LEFT JOIN  `bigquery-public-data.san_francisco.bikeshare_stations` en\n",
    "      ON t.end_station_id = en.station_id\n",
    "    WHERE \n",
    "      TIMESTAMP_DIFF(end_date, start_date, MINUTE) BETWEEN 2 AND 180\n",
    "      AND subscriber_type = 'Subscriber'\n",
    "    GROUP BY \n",
    "      start_station_name, end_station_name, subscriber_type,\n",
    "       st.longitude, st.latitude,en.longitude, en.latitude\n",
    "    ORDER BY trips DESC\n",
    "    LIMIT 1\n",
    ";\"\"\"\n",
    "\n",
    "sub_top_routes_job = client.query(sub_top_routes) \n",
    "\n",
    "sub_top_routes_df = sub_top_routes_job.to_dataframe()"
   ]
  },
  {
   "cell_type": "code",
   "execution_count": 124,
   "metadata": {},
   "outputs": [],
   "source": [
    "non_sub_top_routes = \"\"\"     SELECT \n",
    "      start_station_name, st.longitude, st.latitude,\n",
    "      ST_GeogPoint(st.longitude, st.latitude) AS starting_geo,\n",
    "      end_station_name,en.longitude AS ending_long, en.latitude AS ending_lat,\n",
    "      ST_GeogPoint(en.longitude, en.latitude) AS ending_geo,\n",
    "      COUNT(DISTINCT trip_id) AS trips\n",
    "    FROM `bigquery-public-data.san_francisco.bikeshare_trips` t\n",
    "    LEFT JOIN  `bigquery-public-data.san_francisco.bikeshare_stations` st\n",
    "      ON t.start_station_id = st.station_id\n",
    "    LEFT JOIN  `bigquery-public-data.san_francisco.bikeshare_stations` en\n",
    "      ON t.end_station_id = en.station_id\n",
    "    WHERE \n",
    "      TIMESTAMP_DIFF(end_date, start_date, MINUTE) BETWEEN 2 AND 180\n",
    "      AND subscriber_type != 'Subscriber'\n",
    "    GROUP BY \n",
    "      start_station_name, end_station_name, subscriber_type,\n",
    "       st.longitude, st.latitude,en.longitude, en.latitude\n",
    "    ORDER BY trips DESC\n",
    "    LIMIT 1\n",
    ";\"\"\"\n",
    "\n",
    "non_sub_top_routes_job = client.query(non_sub_top_routes) \n",
    "\n",
    "non_sub_top_routes_df = non_sub_top_routes_job.to_dataframe()"
   ]
  },
  {
   "cell_type": "code",
   "execution_count": 125,
   "metadata": {},
   "outputs": [],
   "source": [
    "# sf_coordinates = (37.7749, -122.4194)\n",
    "# fig = gmaps.figure(center=sf_coordinates, zoom_level=13)\n",
    "# fig.add_layer(gmaps.bicycling_layer())"
   ]
  },
  {
   "cell_type": "code",
   "execution_count": 127,
   "metadata": {},
   "outputs": [],
   "source": [
    "# Subscriber start and ending lat/long\n",
    "s_lat = sub_top_routes_df._get_value(0,'latitude')\n",
    "s_long = sub_top_routes_df._get_value(0,'longitude')\n",
    "e_lat = sub_top_routes_df._get_value(0,'ending_lat')\n",
    "e_long = sub_top_routes_df._get_value(0,'ending_long')\n",
    "\n",
    "# Non-Subscriber starting and ending lat/long\n",
    "n_s_lat = non_sub_top_routes_df._get_value(0,'latitude')\n",
    "n_s_long = non_sub_top_routes_df._get_value(0,'longitude')\n",
    "n_e_lat = non_sub_top_routes_df._get_value(0,'ending_lat')\n",
    "n_e_long = non_sub_top_routes_df._get_value(0,'ending_long')\n"
   ]
  },
  {
   "cell_type": "code",
   "execution_count": 129,
   "metadata": {},
   "outputs": [],
   "source": [
    "sf_coordinates = (37.7749, -122.4194)\n",
    "\n",
    "fig = gmaps.figure(center=sf_coordinates, zoom_level=11)\n",
    "\n",
    "subscriber = gmaps.directions_layer((s_lat, s_long), (e_lat, e_long),\n",
    "                                          show_markers = False, stroke_color = 'red',\n",
    "                                          stroke_weight = 3.0, stroke_opacity = 1.0,\\\n",
    "                                          travel_mode = 'BICYCLING')\n",
    "\n",
    "non_subscriber = gmaps.directions_layer((n_s_lat, n_s_long), (n_e_lat, n_e_long),\n",
    "                                          show_markers = False, stroke_color = 'blue',\n",
    "                                          stroke_weight = 3.0, stroke_opacity = 1.0,\\\n",
    "                                          travel_mode = 'BICYCLING')\n"
   ]
  },
  {
   "cell_type": "code",
   "execution_count": 130,
   "metadata": {},
   "outputs": [
    {
     "data": {
      "application/vnd.jupyter.widget-view+json": {
       "model_id": "d807381078b341569818488c6b8cf94d",
       "version_major": 2,
       "version_minor": 0
      },
      "text/plain": [
       "Figure(layout=FigureLayout(height='420px'))"
      ]
     },
     "metadata": {},
     "output_type": "display_data"
    }
   ],
   "source": [
    "fig.add_layer(subscriber)\n",
    "fig.add_layer(non_subscriber)\n",
    "locations = [\n",
    "        (s_lat, s_long), (e_lat, e_long),\n",
    "        (n_s_lat, n_s_long), (n_e_lat, n_e_long),\n",
    "    ]\n",
    "marker_layer = gmaps.marker_layer(\n",
    "        locations,\n",
    "        hover_text=['Sub. Start', 'Sub. End', 'Non-Sub. Start', 'Non-Sub. End']\n",
    "    )\n",
    "marker_layer.markers[0].label = 'Sub. Start'\n",
    "marker_layer.markers[1].label = 'Sub. End'\n",
    "marker_layer.markers[2].label = 'Non-Sub. Start'\n",
    "marker_layer.markers[3].label = 'Non-Sub. End'\n",
    "fig.add_layer(marker_layer)\n",
    "fig"
   ]
  },
  {
   "cell_type": "markdown",
   "metadata": {},
   "source": [
    "* Top routes for subscribers and non-subscribers are different. This likely indicates a different type of rider with different features."
   ]
  },
  {
   "cell_type": "markdown",
   "metadata": {},
   "source": [
    "## Q5: What is the share riders attributed to subscribers vs non over time? "
   ]
  },
  {
   "cell_type": "code",
   "execution_count": null,
   "metadata": {},
   "outputs": [],
   "source": [
    "query_trips_over_time_with_sub = \"\"\"\n",
    "\n",
    "WITH \n",
    "MONTH_TRIP AS (\n",
    "  SELECT\n",
    "    DATE_TRUNC(DATE(start_date), MONTH) AS month,\n",
    "    COUNT(DISTINCT IF(subscriber_type = 'Subscriber', trip_id, NULL))/ COUNT(DISTINCT trip_id) AS subscriber_trips \n",
    "  FROM  `bigquery-public-data.san_francisco.bikeshare_trips`\n",
    "  WHERE TIMESTAMP_DIFF(end_date, start_date, MINUTE) BETWEEN 2 AND 180\n",
    "  GROUP BY 1\n",
    "  )\n",
    ", OVER_TIME AS (\n",
    "SELECT \n",
    "  month,\n",
    "  subscriber_trips,\n",
    "  # checked data\n",
    "  subscriber_trips/LAG(subscriber_trips) OVER (ORDER BY month)-1 AS mom_trips, \n",
    "  subscriber_trips/LAG(subscriber_trips,12) OVER (ORDER BY month)-1 AS yoy_trips\n",
    "FROM MONTH_TRIP\n",
    ")\n",
    "\n",
    "SELECT * \n",
    "FROM OVER_TIME\n",
    "WHERE month > '2014-08-01'\n",
    ";\n",
    "\"\"\"\n",
    "query_trips_over_time_sub_job = client.query(query_trips_over_time_with_sub) \n",
    "\n",
    "df_longitudinal_sub = query_trips_over_time_sub_job.to_dataframe()\n",
    "df_longitudinal_sub.head()"
   ]
  },
  {
   "cell_type": "code",
   "execution_count": null,
   "metadata": {},
   "outputs": [],
   "source": [
    "plt.bar('month', 'subscriber_trips', data =df_longitudinal_sub, color = \"blue\", width = 16)\n",
    "plt.figure(figsize=(30,5)) \n",
    "\n",
    "# Share of total hasn't shifted enough over time to indicate a large shift. Focus on subscriber rides"
   ]
  },
  {
   "cell_type": "markdown",
   "metadata": {},
   "source": [
    "## Q6: What are the busiest days of the week? Times of day?"
   ]
  },
  {
   "cell_type": "code",
   "execution_count": 150,
   "metadata": {},
   "outputs": [
    {
     "name": "stdout",
     "output_type": "stream",
     "text": [
      "  day_of_week  avg_sub_trips_day  avg_total_trips_day\n",
      "0     Tuesday             1081.0               1175.0\n",
      "1   Wednesday             1054.0               1151.0\n",
      "2    Thursday             1021.0               1127.0\n",
      "3      Monday              986.0               1082.0\n",
      "4      Friday              892.0               1019.0\n",
      "5    Saturday              198.0                384.0\n",
      "6      Sunday              162.0                327.0\n",
      "    hour  avg_sub_trips_day  avg_total_trips_day\n",
      "0      8           127171.0             132464.0\n",
      "1     17           114915.0             126302.0\n",
      "2      9            89546.0              96118.0\n",
      "3     16            76051.0              88755.0\n",
      "4     18            75798.0              84569.0\n",
      "5      7            64946.0              67531.0\n",
      "6     19            35515.0              41071.0\n",
      "7     15            34820.0              47626.0\n",
      "8     10            34532.0              42782.0\n",
      "9     12            34442.0              46950.0\n",
      "10    13            30995.0              43714.0\n",
      "11    11            29329.0              40407.0\n",
      "12    14            25115.0              37852.0\n",
      "13     6            19574.0              20519.0\n",
      "14    20            19006.0              22747.0\n",
      "15    21            12450.0              15258.0\n",
      "16    22             7985.0              10270.0\n",
      "17     5             4795.0               5098.0\n",
      "18    23             4702.0               6195.0\n",
      "19     0             2081.0               2929.0\n",
      "20     4             1238.0               1398.0\n",
      "21     1              972.0               1611.0\n",
      "22     2              464.0                877.0\n",
      "23     3              397.0                605.0\n"
     ]
    }
   ],
   "source": [
    "day_of_week_volume = \"\"\"\n",
    "WITH RIDES_BY_DAY AS (\n",
    "  SELECT \n",
    "    DATE(start_date) AS date,\n",
    "    COUNT(DISTINCT IF( subscriber_type = 'Subscriber', trip_id, NULL)) AS total_subscriber_trips,\n",
    "    COUNT(DISTINCT trip_id) AS total_trips\n",
    "  FROM `bigquery-public-data.san_francisco.bikeshare_trips`\n",
    "  GROUP BY 1\n",
    "  )\n",
    "SELECT \n",
    "  FORMAT_DATE(\"%A\" , date) AS day_of_week,\n",
    "  ROUND(AVG(total_subscriber_trips),0) AS avg_sub_trips_day,\n",
    "  ROUND(AVG(total_trips),0) AS avg_total_trips_day\n",
    "FROM RIDES_BY_DAY\n",
    "GROUP BY 1\n",
    "ORDER BY 2 desc\n",
    ";\n",
    "\"\"\"\n",
    "day_of_week_volume_df = client.query(day_of_week_volume).to_dataframe()\n",
    "print(day_of_week_volume_df)\n",
    "\n",
    "\n",
    "\n",
    "time_of_day_volume = \"\"\"\n",
    "WITH RIDES_BY_DAY AS (\n",
    "  SELECT \n",
    "    EXTRACT(HOUR FROM start_date) hour,\n",
    "    COUNT(DISTINCT IF( subscriber_type = 'Subscriber', trip_id, NULL)) AS total_subscriber_trips,\n",
    "    COUNT(DISTINCT trip_id) AS total_trips\n",
    "  FROM `bigquery-public-data.san_francisco.bikeshare_trips`\n",
    "  GROUP BY 1\n",
    "  )\n",
    "SELECT \n",
    "  hour,\n",
    "  ROUND(AVG(total_subscriber_trips),0) AS avg_sub_trips_day,\n",
    "  ROUND(AVG(total_trips),0) AS avg_total_trips_day\n",
    "FROM RIDES_BY_DAY\n",
    "GROUP BY 1\n",
    "ORDER BY 2 desc\n",
    ";\n",
    "\"\"\"\n",
    "time_of_day_volume_df = client.query(time_of_day_volume).to_dataframe()\n",
    "print(time_of_day_volume_df)"
   ]
  },
  {
   "cell_type": "code",
   "execution_count": 149,
   "metadata": {},
   "outputs": [
    {
     "data": {
      "image/png": "[encoded data removed]",
      "text/plain": [
       "<Figure size 432x288 with 2 Axes>"
      ]
     },
     "metadata": {
      "needs_background": "light"
     },
     "output_type": "display_data"
    }
   ],
   "source": [
    "fig, ax = plt.subplots(1,2, sharey = True)\n",
    "ax[0].barh(day_of_week_volume_df.day_of_week, day_of_week_volume_df.avg_sub_trips_day, align='center')\n",
    "ax[0].invert_yaxis()  # labels read top-to-bottom\n",
    "ax[0].set_title('Avg number of trips\\n by subscribers\\n by day of week')\n",
    "\n",
    "ax[1].barh(day_of_week_volume_df.day_of_week, day_of_week_volume_df.avg_total_trips_day, align='center')\n",
    "ax[1].invert_yaxis()  # labels read top-to-bottom\n",
    "ax[1].set_title('Avg number of\\n total trips\\n by day of week')\n",
    "\n",
    "\n",
    "plt.show()"
   ]
  },
  {
   "cell_type": "markdown",
   "metadata": {},
   "source": [
    "* Most rides are on weekdays. Very few on weekends."
   ]
  },
  {
   "cell_type": "markdown",
   "metadata": {},
   "source": [
    "* Recommendation: To increase rides - look for opportunities to appeal to leisure riders (e.g., those on weekends.) Since non-subscribers may be more likely to ride on tourist routes, consider whether there needs to be a capacity shift for weekends."
   ]
  },
  {
   "cell_type": "code",
   "execution_count": null,
   "metadata": {},
   "outputs": [],
   "source": []
  }
 ],
 "metadata": {
  "environment": {
   "name": "tf2-2-3-gpu.2-3.m55",
   "type": "gcloud",
   "uri": "gcr.io/deeplearning-platform-release/tf2-2-3-gpu.2-3:m55"
  },
  "kernelspec": {
   "display_name": "Python 3",
   "language": "python",
   "name": "python3"
  },
  "language_info": {
   "codemirror_mode": {
    "name": "ipython",
    "version": 3
   },
   "file_extension": ".py",
   "mimetype": "text/x-python",
   "name": "python",
   "nbconvert_exporter": "python",
   "pygments_lexer": "ipython3",
   "version": "3.7.8"
  }
 },
 "nbformat": 4,
 "nbformat_minor": 4
}
